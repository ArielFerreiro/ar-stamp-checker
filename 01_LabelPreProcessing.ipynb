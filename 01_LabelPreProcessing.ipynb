{
  "nbformat": 4,
  "nbformat_minor": 0,
  "metadata": {
    "colab": {
      "name": "01_LabelPreProcessing.ipynb",
      "provenance": [],
      "toc_visible": true,
      "authorship_tag": "ABX9TyNA582TDfUoyeAS4ZqzxmpP",
      "include_colab_link": true
    },
    "kernelspec": {
      "name": "python3",
      "display_name": "Python 3"
    }
  },
  "cells": [
    {
      "cell_type": "markdown",
      "metadata": {
        "id": "view-in-github",
        "colab_type": "text"
      },
      "source": [
        "<a href=\"https://colab.research.google.com/github/ArielFerreiro/ar-stamp-checker/blob/main/01_LabelPreProcessing.ipynb\" target=\"_parent\"><img src=\"https://colab.research.google.com/assets/colab-badge.svg\" alt=\"Open In Colab\"/></a>"
      ]
    },
    {
      "cell_type": "markdown",
      "metadata": {
        "id": "shtkyqaYjUsd"
      },
      "source": [
        "# Labeling File pre-procesing as Pandas Dataframe for better data management in further nothebooks"
      ]
    },
    {
      "cell_type": "code",
      "metadata": {
        "id": "ZPAxj9IKjfAd"
      },
      "source": [
        "%load_ext autoreload\n",
        "%autoreload 2"
      ],
      "execution_count": 1,
      "outputs": []
    },
    {
      "cell_type": "markdown",
      "metadata": {
        "id": "mRqdZbmOkWZa"
      },
      "source": [
        "### Notebook Imports"
      ]
    },
    {
      "cell_type": "code",
      "metadata": {
        "id": "msPSx4Zmjn4C"
      },
      "source": [
        "import pandas as pd\n",
        "from os import listdir\n",
        "from os.path import isfile, join"
      ],
      "execution_count": 3,
      "outputs": []
    },
    {
      "cell_type": "markdown",
      "metadata": {
        "id": "bVzfnCTokZ-f"
      },
      "source": [
        "### Load the drive to grab the images and labels"
      ]
    },
    {
      "cell_type": "code",
      "metadata": {
        "id": "EajuiWNejoH8",
        "outputId": "0e9d0fb1-88ac-4419-d029-2222631f6f91",
        "colab": {
          "base_uri": "https://localhost:8080/"
        }
      },
      "source": [
        "from google.colab import drive\n",
        "drive.mount('/content/drive')"
      ],
      "execution_count": 4,
      "outputs": [
        {
          "output_type": "stream",
          "text": [
            "Mounted at /content/drive\n"
          ],
          "name": "stdout"
        }
      ]
    },
    {
      "cell_type": "markdown",
      "metadata": {
        "id": "nluFtx3akeCf"
      },
      "source": [
        "### Global Params\n"
      ]
    },
    {
      "cell_type": "code",
      "metadata": {
        "id": "4WuvWqWWj1ik"
      },
      "source": [
        "labels_path = 'drive/My Drive/Colab Notebooks/stamps/labels/'\n",
        "results_path = 'drive/My Drive/Colab Notebooks/stamps/results/'"
      ],
      "execution_count": 13,
      "outputs": []
    },
    {
      "cell_type": "markdown",
      "metadata": {
        "id": "3ski15BQkgRt"
      },
      "source": [
        "### Notebook Functions\n"
      ]
    },
    {
      "cell_type": "code",
      "metadata": {
        "id": "ih1U-l4ykTIE"
      },
      "source": [
        "def create_DF(path):\n",
        "    \"\"\"\n",
        "    Opens the bounding boxes file and creates a pandas DF\n",
        "    \"\"\"\n",
        "    df = pd.DataFrame([])\n",
        "    for file in listdir(labels_path):\n",
        "        if isfile(join(labels_path, file)):\n",
        "            #open the csv\n",
        "            aux_df = pd.read_csv(join(labels_path, file), \n",
        "                                 names=[\"label\",\"x\",\"y\",\"deltax\",\"deltay\", \"file_name\", \"width\", \"height\"], \n",
        "                                 sep=\",\")\n",
        "            df = df.append(aux_df, ignore_index=True)\n",
        "    \n",
        "    #Cener points and deltas     \n",
        "    df[\"center_x\"] = ((df[\"x\"])+(df[\"x\"] + df[\"deltax\"]))/2\n",
        "    df[\"center_y\"] = ((df[\"y\"])+(df[\"y\"] + df[\"deltay\"]))/2\n",
        "    \n",
        "    return df"
      ],
      "execution_count": 6,
      "outputs": []
    },
    {
      "cell_type": "markdown",
      "metadata": {
        "id": "REqPqog3k4YS"
      },
      "source": [
        "### Start"
      ]
    },
    {
      "cell_type": "code",
      "metadata": {
        "id": "pyRsUyqFk6NM"
      },
      "source": [
        "df = create_DF(labels_path)"
      ],
      "execution_count": 7,
      "outputs": []
    },
    {
      "cell_type": "code",
      "metadata": {
        "id": "tes17OMmk8Bx",
        "outputId": "605ce8ca-5592-4d34-e697-a9f1fe83aed5",
        "colab": {
          "base_uri": "https://localhost:8080/",
          "height": 204
        }
      },
      "source": [
        "df.head()"
      ],
      "execution_count": 8,
      "outputs": [
        {
          "output_type": "execute_result",
          "data": {
            "text/html": [
              "<div>\n",
              "<style scoped>\n",
              "    .dataframe tbody tr th:only-of-type {\n",
              "        vertical-align: middle;\n",
              "    }\n",
              "\n",
              "    .dataframe tbody tr th {\n",
              "        vertical-align: top;\n",
              "    }\n",
              "\n",
              "    .dataframe thead th {\n",
              "        text-align: right;\n",
              "    }\n",
              "</style>\n",
              "<table border=\"1\" class=\"dataframe\">\n",
              "  <thead>\n",
              "    <tr style=\"text-align: right;\">\n",
              "      <th></th>\n",
              "      <th>label</th>\n",
              "      <th>x</th>\n",
              "      <th>y</th>\n",
              "      <th>deltax</th>\n",
              "      <th>deltay</th>\n",
              "      <th>file_name</th>\n",
              "      <th>width</th>\n",
              "      <th>height</th>\n",
              "      <th>center_x</th>\n",
              "      <th>center_y</th>\n",
              "    </tr>\n",
              "  </thead>\n",
              "  <tbody>\n",
              "    <tr>\n",
              "      <th>0</th>\n",
              "      <td>cft_box</td>\n",
              "      <td>603</td>\n",
              "      <td>858</td>\n",
              "      <td>1818</td>\n",
              "      <td>1447</td>\n",
              "      <td>20201016_124951.jpg</td>\n",
              "      <td>3024</td>\n",
              "      <td>4032</td>\n",
              "      <td>1512.0</td>\n",
              "      <td>1581.5</td>\n",
              "    </tr>\n",
              "    <tr>\n",
              "      <th>1</th>\n",
              "      <td>cft_box</td>\n",
              "      <td>618</td>\n",
              "      <td>1143</td>\n",
              "      <td>1823</td>\n",
              "      <td>1462</td>\n",
              "      <td>20201016_124959.jpg</td>\n",
              "      <td>3024</td>\n",
              "      <td>4032</td>\n",
              "      <td>1529.5</td>\n",
              "      <td>1874.0</td>\n",
              "    </tr>\n",
              "    <tr>\n",
              "      <th>2</th>\n",
              "      <td>cft_box</td>\n",
              "      <td>720</td>\n",
              "      <td>1320</td>\n",
              "      <td>1823</td>\n",
              "      <td>1488</td>\n",
              "      <td>20201016_125009.jpg</td>\n",
              "      <td>3024</td>\n",
              "      <td>4032</td>\n",
              "      <td>1631.5</td>\n",
              "      <td>2064.0</td>\n",
              "    </tr>\n",
              "    <tr>\n",
              "      <th>3</th>\n",
              "      <td>cft_box</td>\n",
              "      <td>588</td>\n",
              "      <td>1376</td>\n",
              "      <td>1630</td>\n",
              "      <td>1437</td>\n",
              "      <td>20201016_125015.jpg</td>\n",
              "      <td>3024</td>\n",
              "      <td>4032</td>\n",
              "      <td>1403.0</td>\n",
              "      <td>2094.5</td>\n",
              "    </tr>\n",
              "    <tr>\n",
              "      <th>4</th>\n",
              "      <td>cft_box</td>\n",
              "      <td>573</td>\n",
              "      <td>929</td>\n",
              "      <td>1630</td>\n",
              "      <td>1356</td>\n",
              "      <td>20201016_125021.jpg</td>\n",
              "      <td>3024</td>\n",
              "      <td>4032</td>\n",
              "      <td>1388.0</td>\n",
              "      <td>1607.0</td>\n",
              "    </tr>\n",
              "  </tbody>\n",
              "</table>\n",
              "</div>"
            ],
            "text/plain": [
              "     label    x     y  deltax  ...  width height  center_x  center_y\n",
              "0  cft_box  603   858    1818  ...   3024   4032    1512.0    1581.5\n",
              "1  cft_box  618  1143    1823  ...   3024   4032    1529.5    1874.0\n",
              "2  cft_box  720  1320    1823  ...   3024   4032    1631.5    2064.0\n",
              "3  cft_box  588  1376    1630  ...   3024   4032    1403.0    2094.5\n",
              "4  cft_box  573   929    1630  ...   3024   4032    1388.0    1607.0\n",
              "\n",
              "[5 rows x 10 columns]"
            ]
          },
          "metadata": {
            "tags": []
          },
          "execution_count": 8
        }
      ]
    },
    {
      "cell_type": "code",
      "metadata": {
        "id": "wHNozB51k-k-",
        "outputId": "6a48cc67-0712-4401-9866-88535b8c7f3f",
        "colab": {
          "base_uri": "https://localhost:8080/"
        }
      },
      "source": [
        "classes = df[\"label\"].unique()\n",
        "print(classes)"
      ],
      "execution_count": 9,
      "outputs": [
        {
          "output_type": "stream",
          "text": [
            "['cft_box' 'cft_soft' 'gen_box' 'gen_soft']\n"
          ],
          "name": "stdout"
        }
      ]
    },
    {
      "cell_type": "code",
      "metadata": {
        "id": "qQwjXJTblBqN",
        "outputId": "ff8de1c8-11f3-49d9-d97a-626df14005c2",
        "colab": {
          "base_uri": "https://localhost:8080/"
        }
      },
      "source": [
        "qty_classes = len(classes)\n",
        "qty_classes"
      ],
      "execution_count": 10,
      "outputs": [
        {
          "output_type": "execute_result",
          "data": {
            "text/plain": [
              "4"
            ]
          },
          "metadata": {
            "tags": []
          },
          "execution_count": 10
        }
      ]
    },
    {
      "cell_type": "code",
      "metadata": {
        "id": "1u03mOnklJ7Z"
      },
      "source": [
        "classes_idx = {clase:idx for idx,clase in enumerate(classes)}"
      ],
      "execution_count": 11,
      "outputs": []
    },
    {
      "cell_type": "code",
      "metadata": {
        "id": "LodC6N05lMC1",
        "outputId": "3fdeb7fd-1d9a-42f9-ed6e-f25652dc711b",
        "colab": {
          "base_uri": "https://localhost:8080/"
        }
      },
      "source": [
        "df['label'].value_counts()"
      ],
      "execution_count": 12,
      "outputs": [
        {
          "output_type": "execute_result",
          "data": {
            "text/plain": [
              "cft_soft    591\n",
              "gen_soft    591\n",
              "gen_box     359\n",
              "cft_box     355\n",
              "Name: label, dtype: int64"
            ]
          },
          "metadata": {
            "tags": []
          },
          "execution_count": 12
        }
      ]
    },
    {
      "cell_type": "code",
      "metadata": {
        "id": "1piElSa3lOEs"
      },
      "source": [
        "import pickle\n",
        "with open(results_path + \"labels.pkl\",\"wb\") as f:\n",
        "    pickle.dump((df, classes_idx, qty_classes, classes), f)"
      ],
      "execution_count": 15,
      "outputs": []
    },
    {
      "cell_type": "code",
      "metadata": {
        "id": "aGZkRs52lhL7"
      },
      "source": [
        "#### DONE v1 28/10/2020\n",
        "#### Auth: Ariel Ferreiro Diaz"
      ],
      "execution_count": 16,
      "outputs": []
    }
  ]
}