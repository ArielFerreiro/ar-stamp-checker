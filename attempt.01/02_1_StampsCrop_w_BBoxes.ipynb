{
  "nbformat": 4,
  "nbformat_minor": 0,
  "metadata": {
    "colab": {
      "name": "02_1_StampsCrop_w_BBoxes.ipynb",
      "provenance": [],
      "authorship_tag": "ABX9TyNYupjQ1ux0tzHTO5Cf561d",
      "include_colab_link": true
    },
    "kernelspec": {
      "name": "python3",
      "display_name": "Python 3"
    }
  },
  "cells": [
    {
      "cell_type": "markdown",
      "metadata": {
        "id": "view-in-github",
        "colab_type": "text"
      },
      "source": [
        "<a href=\"https://colab.research.google.com/github/ArielFerreiro/ar-stamp-checker/blob/main/attempt.01/02_1_StampsCrop_w_BBoxes.ipynb\" target=\"_parent\"><img src=\"https://colab.research.google.com/assets/colab-badge.svg\" alt=\"Open In Colab\"/></a>"
      ]
    },
    {
      "cell_type": "markdown",
      "metadata": {
        "id": "4-Phucq1wJTk"
      },
      "source": [
        "# Using the stamp detector model we use it to create a new cropper based on the automatic annotations done by that model"
      ]
    },
    {
      "cell_type": "code",
      "metadata": {
        "id": "q9udTrMRwQq-"
      },
      "source": [
        "%load_ext autoreload\n",
        "%autoreload 2"
      ],
      "execution_count": null,
      "outputs": []
    },
    {
      "cell_type": "markdown",
      "metadata": {
        "id": "ygSF013kwhVU"
      },
      "source": [
        "#### Load the drive to grab the models and images"
      ]
    },
    {
      "cell_type": "code",
      "metadata": {
        "id": "r5iPxEIYwfas",
        "outputId": "96c4111d-c3d0-4cb1-a37d-d9770b7e7c7e",
        "colab": {
          "base_uri": "https://localhost:8080/"
        }
      },
      "source": [
        "from google.colab import drive\n",
        "drive.mount('/content/drive')"
      ],
      "execution_count": null,
      "outputs": [
        {
          "output_type": "stream",
          "text": [
            "Mounted at /content/drive\n"
          ],
          "name": "stdout"
        }
      ]
    },
    {
      "cell_type": "markdown",
      "metadata": {
        "id": "MiKjb4Z8wud-"
      },
      "source": [
        "#### Notebook Imports"
      ]
    },
    {
      "cell_type": "code",
      "metadata": {
        "id": "elY-otdnwkOH"
      },
      "source": [
        "import pandas as pd\n",
        "import numpy as np\n",
        "import pickle\n",
        "import cv2\n",
        "from os import path\n",
        "from matplotlib import pyplot as plt\n",
        "from keras.models import load_model"
      ],
      "execution_count": null,
      "outputs": []
    },
    {
      "cell_type": "markdown",
      "metadata": {
        "id": "RvWz9Vuxw4L_"
      },
      "source": [
        "#### Global Params"
      ]
    },
    {
      "cell_type": "code",
      "metadata": {
        "id": "G9KOSgQ-w2md"
      },
      "source": [
        "images_path = 'drive/My Drive/Colab Notebooks/stamps/original/'\n",
        "results_path = 'drive/My Drive/Colab Notebooks/stamps/results/'\n",
        "models_path = 'drive/My Drive/Colab Notebooks/stamps/models/'"
      ],
      "execution_count": null,
      "outputs": []
    },
    {
      "cell_type": "markdown",
      "metadata": {
        "id": "OjSTCfi0x8s2"
      },
      "source": [
        "#### Notebook Functions"
      ]
    },
    {
      "cell_type": "code",
      "metadata": {
        "id": "yMubX94Zx_77"
      },
      "source": [
        "def cropImage(path_in, item, model):\n",
        "    \"\"\"\n",
        "    Opens an image from the original dataset, crops it using the model, \n",
        "    resize the picture and returns it as a numpy array together with its class\n",
        "    \"\"\"\n",
        "    dim = (299, 299)\n",
        "    image_in = path_in+item.label+\"/\"+item.file_name\n",
        "\n",
        "    classe = 0 #genuine\n",
        "    if item.label[0:3]=='cft':\n",
        "      classe = 1 #fake\n",
        "    \n",
        "    if path.exists(image_in):  \n",
        "\n",
        "        # open image\n",
        "        img = cv2.imread(image_in)\n",
        "        map = cv2.cvtColor(img, cv2.COLOR_BGR2RGB)\n",
        "\n",
        "        #save original image data\n",
        "        original_image = map\n",
        "        original_height = map.shape[0]\n",
        "        original_width = map.shape[1]\n",
        "\n",
        "        # Prepare the image to enter the model\n",
        "        map = cv2.resize(map, dsize=(224,224))\n",
        "        map = map / map.max() #255\n",
        "        map = np.expand_dims(map, axis=0)\n",
        "\n",
        "        # Predict BBOX (Crop)\n",
        "        pred_bbox = model.predict(map)\n",
        "        bbox = pred_bbox[0]*193.0\n",
        "        x, y, w, h = bbox\n",
        "\n",
        "        # Adjust box to original image size\n",
        "        new_x = original_width * x / 224\n",
        "        new_y =  original_height * y / 224\n",
        "        new_w = original_width * w / 244\n",
        "        new_h = original_height * h / 224\n",
        "\n",
        "        # crop image\n",
        "        crop_img = original_image[int(new_y):int(new_y)+int(new_h), int(new_x):int(new_x)+int(new_w)]\n",
        "        \n",
        "        # resize image\n",
        "        resized = cv2.resize(crop_img, dim, interpolation = cv2.INTER_AREA)\n",
        "        \n",
        "        return resized, classe\n",
        "    else:\n",
        "        return None, None"
      ],
      "execution_count": null,
      "outputs": []
    },
    {
      "cell_type": "markdown",
      "metadata": {
        "id": "8eFyznmWxCCP"
      },
      "source": [
        "#### Import *Model*"
      ]
    },
    {
      "cell_type": "code",
      "metadata": {
        "id": "LbcJR3xdw90J"
      },
      "source": [
        "bbox_model_name = 'vgg19_bbox_detector.h5'\n",
        "\n",
        "# Bounding Box Detector Model -> Detects the position of the stamp in a full pic\n",
        "bbox_detector =  load_model(models_path + bbox_model_name)\n",
        "bbox_detector.load_weights(models_path + 'weights_' + bbox_model_name)"
      ],
      "execution_count": null,
      "outputs": []
    },
    {
      "cell_type": "markdown",
      "metadata": {
        "id": "Y097UncuyTFo"
      },
      "source": [
        "#### Start"
      ]
    },
    {
      "cell_type": "code",
      "metadata": {
        "id": "8whCvESKzhvW"
      },
      "source": [
        "with open(results_path+\"labels.pkl\",\"rb\") as f:\n",
        "    (df, classes_idx, cant_classes, classes) = pickle.load(f)"
      ],
      "execution_count": null,
      "outputs": []
    },
    {
      "cell_type": "code",
      "metadata": {
        "id": "pWE6wQ8UxHlz"
      },
      "source": [
        "stamps = []\n",
        "y = []\n",
        "for index, row in df.iterrows():\n",
        "    stamp, classe = cropImage(images_path, row, bbox_detector)\n",
        "    if not stamp is None:\n",
        "      stamps.append(stamp)\n",
        "      y.append(classe)"
      ],
      "execution_count": null,
      "outputs": []
    },
    {
      "cell_type": "code",
      "metadata": {
        "id": "ydbptgupzpKb"
      },
      "source": [
        "len(stamps)"
      ],
      "execution_count": null,
      "outputs": []
    },
    {
      "cell_type": "code",
      "metadata": {
        "id": "2u9eF7jSzisy"
      },
      "source": [
        "stamps_array = np.array(stamps)\n",
        "y_array = np.array(y)\n",
        "stamps_array.shape"
      ],
      "execution_count": null,
      "outputs": []
    },
    {
      "cell_type": "markdown",
      "metadata": {
        "id": "Dpj77eyozsdX"
      },
      "source": [
        "#### Checkpoint"
      ]
    },
    {
      "cell_type": "code",
      "metadata": {
        "id": "ky8jcNBJztzK"
      },
      "source": [
        "plt.imshow(stamps_array[0])"
      ],
      "execution_count": null,
      "outputs": []
    },
    {
      "cell_type": "code",
      "metadata": {
        "id": "SGulN0Cmzv0T"
      },
      "source": [
        "with open(results_path + \"stamps_bb_299.pkl\",\"wb\") as f:\n",
        "    pickle.dump((stamps_array, y_array), f)"
      ],
      "execution_count": null,
      "outputs": []
    },
    {
      "cell_type": "code",
      "metadata": {
        "id": "_5U7WrHdz05N"
      },
      "source": [
        "#### DONE v1 02/11/2020\n",
        "#### Auth: Ariel Ferreiro Diaz"
      ],
      "execution_count": null,
      "outputs": []
    }
  ]
}